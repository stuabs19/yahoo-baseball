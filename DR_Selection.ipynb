{
  "nbformat": 4,
  "nbformat_minor": 0,
  "metadata": {
    "colab": {
      "name": "Copy of DR-Selection.ipynb",
      "provenance": [],
      "collapsed_sections": [
        "KL0_TZUxUjv9",
        "B4IN1ZRWWgAJ"
      ],
      "include_colab_link": true
    },
    "kernelspec": {
      "name": "python3",
      "display_name": "Python 3"
    },
    "language_info": {
      "name": "python"
    }
  },
  "cells": [
    {
      "cell_type": "markdown",
      "metadata": {
        "id": "view-in-github",
        "colab_type": "text"
      },
      "source": [
        "<a href=\"https://colab.research.google.com/github/stuabs19/yahoo-baseball/blob/master/DR_Selection.ipynb\" target=\"_parent\"><img src=\"https://colab.research.google.com/assets/colab-badge.svg\" alt=\"Open In Colab\"/></a>"
      ]
    },
    {
      "cell_type": "markdown",
      "source": [
        "# Optimal Customer Selection in Demand Response Programs\n"
      ],
      "metadata": {
        "id": "tQcnyJWdKiIF"
      }
    },
    {
      "cell_type": "markdown",
      "source": [
        "## Business Understanding\n",
        "\n",
        "This use case is inspired by the academic paper, _Classification of new electricity customers based on surveys and smart metering data_ (Viegas, Joaquim L., et.al., Energy 107 (2016) 804-817, ElSevier). \n",
        "\n",
        "Demand Response (DR) programs are used to improve generation capacity as load demand increases and the two-way communication (between utilities and users) are enabled through AMI. Instead of installing new power plants in smart grids, utilities encourage users to shift their electricity consumption from peak hours to off-peak hours. \n",
        "\n",
        "The number of successfully recruited customers participating in demand response programs is usually low, and resources are wasted on recruitment efforts. However, if utilities can identify customers that are good targets for DR program participation based on their consumption patterns and lifestyles, they may be able to improve the recruitment process for those programs."
      ],
      "metadata": {
        "id": "o7uBtfuP6LOc"
      }
    },
    {
      "cell_type": "markdown",
      "source": [
        "## Data Understanding\n",
        "\n",
        "**Data from the Commission for Energy Regulation**\n",
        "\n",
        "This data was made available by the _Commission for Energy Regulation_ (CER) via the _Irish Social Science Data Archive_ (ISSDA).\n",
        "\n",
        "The Commission for Energy Regulation (CER) is the regulator for the electricity and natural gas sectors in Ireland. The CER was first set up in 1999 and works within the framework of national and EU energy policy which aim to create a single European electricity market that best meets the needs of Europe’s energy consumers.\n",
        "\n",
        "**CER Smart Metering Project**\n",
        "\n",
        "The CER initiated the Smart Metering Project in 2007 with the purpose of undertaking trials to assess the performance of Smart Meters, their impact on consumers’ energy consumption and the economic case for a wider national rollout. It is a collaborative energy industry-wide project managed by the CER and actively involving energy industry participants including the Sustainable Energy Authority of Ireland (SEAI), the Department of Communications, Energy and Natural Resources (DCENR), ESB Networks, Bord Gáis Networks, Electric Ireland, Bord Gáis Energy and other energy suppliers.\n",
        "\n",
        "This notebook utilizes customer usage data and residential pre-trial survey data.\n",
        "\n",
        "Source: https://www.ucd.ie/issda/data/commissionforenergyregulationcer/\n",
        "\n",
        "Manifest: https://www.ucd.ie/issda/t4media/cer-manifest.pdf"
      ],
      "metadata": {
        "id": "LoNin-AURAgR"
      }
    },
    {
      "cell_type": "code",
      "execution_count": null,
      "metadata": {
        "id": "uAtgN-U6KWlL"
      },
      "outputs": [],
      "source": [
        "import numpy as np\n",
        "import pandas as pd\n",
        "import seaborn as sns\n",
        "import matplotlib.pyplot as plt\n",
        "\n",
        "height = 12\n",
        "width = height * 1.6\n",
        "sns.set(rc={'figure.figsize':(width, height)}, style='whitegrid', font_scale=1)"
      ]
    },
    {
      "cell_type": "code",
      "source": [
        "usage = pd.read_csv('https://raw.githubusercontent.com/blcrow/ua201/main/cer-usage.csv').set_index('meter_id')\n",
        "usage.shape"
      ],
      "metadata": {
        "colab": {
          "base_uri": "https://localhost:8080/"
        },
        "id": "z86uQSbKKlbK",
        "outputId": "fba9a72b-7829-4498-b70d-a0d7e445cf64"
      },
      "execution_count": null,
      "outputs": [
        {
          "output_type": "execute_result",
          "data": {
            "text/plain": [
              "(6019, 49)"
            ]
          },
          "metadata": {},
          "execution_count": 2
        }
      ]
    },
    {
      "cell_type": "code",
      "source": [
        "usage.head()"
      ],
      "metadata": {
        "colab": {
          "base_uri": "https://localhost:8080/",
          "height": 331
        },
        "id": "q4U3mEaDLNPk",
        "outputId": "3745da6d-817c-484c-dc18-707033495ead"
      },
      "execution_count": null,
      "outputs": [
        {
          "output_type": "execute_result",
          "data": {
            "text/plain": [
              "                 1         2         3         4         5         6  \\\n",
              "meter_id                                                               \n",
              "1000      0.009831  0.006633  0.005496  0.005777  0.005269  0.005213   \n",
              "1001      0.021131  0.021425  0.020928  0.020571  0.020847  0.020516   \n",
              "1002      0.018452  0.012740  0.009479  0.008216  0.007359  0.007105   \n",
              "1003      0.018708  0.017658  0.016445  0.014757  0.014121  0.013317   \n",
              "1004      0.020893  0.018324  0.015967  0.014058  0.012766  0.011614   \n",
              "\n",
              "                 7         8         9        10  ...        40        41  \\\n",
              "meter_id                                          ...                       \n",
              "1000      0.005184  0.005197  0.005314  0.004935  ...  0.044685  0.042579   \n",
              "1001      0.020150  0.020460  0.021116  0.020240  ...  0.020512  0.021481   \n",
              "1002      0.006999  0.007051  0.006743  0.007094  ...  0.028863  0.031313   \n",
              "1003      0.012589  0.012026  0.012650  0.015951  ...  0.031650  0.029268   \n",
              "1004      0.010476  0.009385  0.008719  0.008051  ...  0.045097  0.040437   \n",
              "\n",
              "                42        43        44        45        46        47  \\\n",
              "meter_id                                                               \n",
              "1000      0.042502  0.035672  0.034085  0.032759  0.027904  0.021806   \n",
              "1001      0.020988  0.020957  0.021425  0.021323  0.021248  0.020669   \n",
              "1002      0.032993  0.035704  0.035570  0.035960  0.035620  0.034086   \n",
              "1003      0.028475  0.028219  0.027320  0.026957  0.024453  0.022351   \n",
              "1004      0.040053  0.038586  0.038595  0.035606  0.032349  0.026688   \n",
              "\n",
              "                48  DR  \n",
              "meter_id                \n",
              "1000      0.016329   0  \n",
              "1001      0.019947   1  \n",
              "1002      0.027589   0  \n",
              "1003      0.020283   1  \n",
              "1004      0.023691   0  \n",
              "\n",
              "[5 rows x 49 columns]"
            ],
            "text/html": [
              "\n",
              "  <div id=\"df-3afbd6d6-8b66-4984-9cbf-73207b5ce3bf\">\n",
              "    <div class=\"colab-df-container\">\n",
              "      <div>\n",
              "<style scoped>\n",
              "    .dataframe tbody tr th:only-of-type {\n",
              "        vertical-align: middle;\n",
              "    }\n",
              "\n",
              "    .dataframe tbody tr th {\n",
              "        vertical-align: top;\n",
              "    }\n",
              "\n",
              "    .dataframe thead th {\n",
              "        text-align: right;\n",
              "    }\n",
              "</style>\n",
              "<table border=\"1\" class=\"dataframe\">\n",
              "  <thead>\n",
              "    <tr style=\"text-align: right;\">\n",
              "      <th></th>\n",
              "      <th>1</th>\n",
              "      <th>2</th>\n",
              "      <th>3</th>\n",
              "      <th>4</th>\n",
              "      <th>5</th>\n",
              "      <th>6</th>\n",
              "      <th>7</th>\n",
              "      <th>8</th>\n",
              "      <th>9</th>\n",
              "      <th>10</th>\n",
              "      <th>...</th>\n",
              "      <th>40</th>\n",
              "      <th>41</th>\n",
              "      <th>42</th>\n",
              "      <th>43</th>\n",
              "      <th>44</th>\n",
              "      <th>45</th>\n",
              "      <th>46</th>\n",
              "      <th>47</th>\n",
              "      <th>48</th>\n",
              "      <th>DR</th>\n",
              "    </tr>\n",
              "    <tr>\n",
              "      <th>meter_id</th>\n",
              "      <th></th>\n",
              "      <th></th>\n",
              "      <th></th>\n",
              "      <th></th>\n",
              "      <th></th>\n",
              "      <th></th>\n",
              "      <th></th>\n",
              "      <th></th>\n",
              "      <th></th>\n",
              "      <th></th>\n",
              "      <th></th>\n",
              "      <th></th>\n",
              "      <th></th>\n",
              "      <th></th>\n",
              "      <th></th>\n",
              "      <th></th>\n",
              "      <th></th>\n",
              "      <th></th>\n",
              "      <th></th>\n",
              "      <th></th>\n",
              "      <th></th>\n",
              "    </tr>\n",
              "  </thead>\n",
              "  <tbody>\n",
              "    <tr>\n",
              "      <th>1000</th>\n",
              "      <td>0.009831</td>\n",
              "      <td>0.006633</td>\n",
              "      <td>0.005496</td>\n",
              "      <td>0.005777</td>\n",
              "      <td>0.005269</td>\n",
              "      <td>0.005213</td>\n",
              "      <td>0.005184</td>\n",
              "      <td>0.005197</td>\n",
              "      <td>0.005314</td>\n",
              "      <td>0.004935</td>\n",
              "      <td>...</td>\n",
              "      <td>0.044685</td>\n",
              "      <td>0.042579</td>\n",
              "      <td>0.042502</td>\n",
              "      <td>0.035672</td>\n",
              "      <td>0.034085</td>\n",
              "      <td>0.032759</td>\n",
              "      <td>0.027904</td>\n",
              "      <td>0.021806</td>\n",
              "      <td>0.016329</td>\n",
              "      <td>0</td>\n",
              "    </tr>\n",
              "    <tr>\n",
              "      <th>1001</th>\n",
              "      <td>0.021131</td>\n",
              "      <td>0.021425</td>\n",
              "      <td>0.020928</td>\n",
              "      <td>0.020571</td>\n",
              "      <td>0.020847</td>\n",
              "      <td>0.020516</td>\n",
              "      <td>0.020150</td>\n",
              "      <td>0.020460</td>\n",
              "      <td>0.021116</td>\n",
              "      <td>0.020240</td>\n",
              "      <td>...</td>\n",
              "      <td>0.020512</td>\n",
              "      <td>0.021481</td>\n",
              "      <td>0.020988</td>\n",
              "      <td>0.020957</td>\n",
              "      <td>0.021425</td>\n",
              "      <td>0.021323</td>\n",
              "      <td>0.021248</td>\n",
              "      <td>0.020669</td>\n",
              "      <td>0.019947</td>\n",
              "      <td>1</td>\n",
              "    </tr>\n",
              "    <tr>\n",
              "      <th>1002</th>\n",
              "      <td>0.018452</td>\n",
              "      <td>0.012740</td>\n",
              "      <td>0.009479</td>\n",
              "      <td>0.008216</td>\n",
              "      <td>0.007359</td>\n",
              "      <td>0.007105</td>\n",
              "      <td>0.006999</td>\n",
              "      <td>0.007051</td>\n",
              "      <td>0.006743</td>\n",
              "      <td>0.007094</td>\n",
              "      <td>...</td>\n",
              "      <td>0.028863</td>\n",
              "      <td>0.031313</td>\n",
              "      <td>0.032993</td>\n",
              "      <td>0.035704</td>\n",
              "      <td>0.035570</td>\n",
              "      <td>0.035960</td>\n",
              "      <td>0.035620</td>\n",
              "      <td>0.034086</td>\n",
              "      <td>0.027589</td>\n",
              "      <td>0</td>\n",
              "    </tr>\n",
              "    <tr>\n",
              "      <th>1003</th>\n",
              "      <td>0.018708</td>\n",
              "      <td>0.017658</td>\n",
              "      <td>0.016445</td>\n",
              "      <td>0.014757</td>\n",
              "      <td>0.014121</td>\n",
              "      <td>0.013317</td>\n",
              "      <td>0.012589</td>\n",
              "      <td>0.012026</td>\n",
              "      <td>0.012650</td>\n",
              "      <td>0.015951</td>\n",
              "      <td>...</td>\n",
              "      <td>0.031650</td>\n",
              "      <td>0.029268</td>\n",
              "      <td>0.028475</td>\n",
              "      <td>0.028219</td>\n",
              "      <td>0.027320</td>\n",
              "      <td>0.026957</td>\n",
              "      <td>0.024453</td>\n",
              "      <td>0.022351</td>\n",
              "      <td>0.020283</td>\n",
              "      <td>1</td>\n",
              "    </tr>\n",
              "    <tr>\n",
              "      <th>1004</th>\n",
              "      <td>0.020893</td>\n",
              "      <td>0.018324</td>\n",
              "      <td>0.015967</td>\n",
              "      <td>0.014058</td>\n",
              "      <td>0.012766</td>\n",
              "      <td>0.011614</td>\n",
              "      <td>0.010476</td>\n",
              "      <td>0.009385</td>\n",
              "      <td>0.008719</td>\n",
              "      <td>0.008051</td>\n",
              "      <td>...</td>\n",
              "      <td>0.045097</td>\n",
              "      <td>0.040437</td>\n",
              "      <td>0.040053</td>\n",
              "      <td>0.038586</td>\n",
              "      <td>0.038595</td>\n",
              "      <td>0.035606</td>\n",
              "      <td>0.032349</td>\n",
              "      <td>0.026688</td>\n",
              "      <td>0.023691</td>\n",
              "      <td>0</td>\n",
              "    </tr>\n",
              "  </tbody>\n",
              "</table>\n",
              "<p>5 rows × 49 columns</p>\n",
              "</div>\n",
              "      <button class=\"colab-df-convert\" onclick=\"convertToInteractive('df-3afbd6d6-8b66-4984-9cbf-73207b5ce3bf')\"\n",
              "              title=\"Convert this dataframe to an interactive table.\"\n",
              "              style=\"display:none;\">\n",
              "        \n",
              "  <svg xmlns=\"http://www.w3.org/2000/svg\" height=\"24px\"viewBox=\"0 0 24 24\"\n",
              "       width=\"24px\">\n",
              "    <path d=\"M0 0h24v24H0V0z\" fill=\"none\"/>\n",
              "    <path d=\"M18.56 5.44l.94 2.06.94-2.06 2.06-.94-2.06-.94-.94-2.06-.94 2.06-2.06.94zm-11 1L8.5 8.5l.94-2.06 2.06-.94-2.06-.94L8.5 2.5l-.94 2.06-2.06.94zm10 10l.94 2.06.94-2.06 2.06-.94-2.06-.94-.94-2.06-.94 2.06-2.06.94z\"/><path d=\"M17.41 7.96l-1.37-1.37c-.4-.4-.92-.59-1.43-.59-.52 0-1.04.2-1.43.59L10.3 9.45l-7.72 7.72c-.78.78-.78 2.05 0 2.83L4 21.41c.39.39.9.59 1.41.59.51 0 1.02-.2 1.41-.59l7.78-7.78 2.81-2.81c.8-.78.8-2.07 0-2.86zM5.41 20L4 18.59l7.72-7.72 1.47 1.35L5.41 20z\"/>\n",
              "  </svg>\n",
              "      </button>\n",
              "      \n",
              "  <style>\n",
              "    .colab-df-container {\n",
              "      display:flex;\n",
              "      flex-wrap:wrap;\n",
              "      gap: 12px;\n",
              "    }\n",
              "\n",
              "    .colab-df-convert {\n",
              "      background-color: #E8F0FE;\n",
              "      border: none;\n",
              "      border-radius: 50%;\n",
              "      cursor: pointer;\n",
              "      display: none;\n",
              "      fill: #1967D2;\n",
              "      height: 32px;\n",
              "      padding: 0 0 0 0;\n",
              "      width: 32px;\n",
              "    }\n",
              "\n",
              "    .colab-df-convert:hover {\n",
              "      background-color: #E2EBFA;\n",
              "      box-shadow: 0px 1px 2px rgba(60, 64, 67, 0.3), 0px 1px 3px 1px rgba(60, 64, 67, 0.15);\n",
              "      fill: #174EA6;\n",
              "    }\n",
              "\n",
              "    [theme=dark] .colab-df-convert {\n",
              "      background-color: #3B4455;\n",
              "      fill: #D2E3FC;\n",
              "    }\n",
              "\n",
              "    [theme=dark] .colab-df-convert:hover {\n",
              "      background-color: #434B5C;\n",
              "      box-shadow: 0px 1px 3px 1px rgba(0, 0, 0, 0.15);\n",
              "      filter: drop-shadow(0px 1px 2px rgba(0, 0, 0, 0.3));\n",
              "      fill: #FFFFFF;\n",
              "    }\n",
              "  </style>\n",
              "\n",
              "      <script>\n",
              "        const buttonEl =\n",
              "          document.querySelector('#df-3afbd6d6-8b66-4984-9cbf-73207b5ce3bf button.colab-df-convert');\n",
              "        buttonEl.style.display =\n",
              "          google.colab.kernel.accessAllowed ? 'block' : 'none';\n",
              "\n",
              "        async function convertToInteractive(key) {\n",
              "          const element = document.querySelector('#df-3afbd6d6-8b66-4984-9cbf-73207b5ce3bf');\n",
              "          const dataTable =\n",
              "            await google.colab.kernel.invokeFunction('convertToInteractive',\n",
              "                                                     [key], {});\n",
              "          if (!dataTable) return;\n",
              "\n",
              "          const docLinkHtml = 'Like what you see? Visit the ' +\n",
              "            '<a target=\"_blank\" href=https://colab.research.google.com/notebooks/data_table.ipynb>data table notebook</a>'\n",
              "            + ' to learn more about interactive tables.';\n",
              "          element.innerHTML = '';\n",
              "          dataTable['output_type'] = 'display_data';\n",
              "          await google.colab.output.renderOutput(dataTable, element);\n",
              "          const docLink = document.createElement('div');\n",
              "          docLink.innerHTML = docLinkHtml;\n",
              "          element.appendChild(docLink);\n",
              "        }\n",
              "      </script>\n",
              "    </div>\n",
              "  </div>\n",
              "  "
            ]
          },
          "metadata": {},
          "execution_count": 3
        }
      ]
    },
    {
      "cell_type": "code",
      "source": [
        "usage.dropna(inplace=True)"
      ],
      "metadata": {
        "id": "AC9Mgte4LjLC"
      },
      "execution_count": null,
      "outputs": []
    },
    {
      "cell_type": "markdown",
      "source": [
        "## Household Survey\n",
        "\n",
        "**Respondent**\n",
        "- `Sex`: Sex of respondent: {male, female}\n",
        "- `Age`: Age of respondent in years: {18-25, 26-35, 36-45, 46-55, 56-65, 65 or more, refused}\n",
        "- `Employment`: employment status of respondent: {Employee, self-employed, unemployed}\n",
        "- `Social_class`: Social class of respondent: {AB, C1, C2, DE, F, refused}\n",
        "- `Education`: Education level of respondent: {none, primary, secondary to intermediate cert junior cert level, secondary to leaving cert level, third level, refused}\n",
        "- `Income`: Income of respondent before tax in euro: {0-15k, 15k-30k, 30k-50k, 50k-75k, 75k or more, refused}"
      ],
      "metadata": {
        "id": "VPNltAQ9RHeJ"
      }
    },
    {
      "cell_type": "code",
      "source": [
        "survey = pd.read_csv('https://raw.githubusercontent.com/blcrow/ua201/main/CER_survey.csv', na_values=' ')\n",
        "survey.head()"
      ],
      "metadata": {
        "colab": {
          "base_uri": "https://localhost:8080/",
          "height": 300
        },
        "id": "Qw9m5ad4PzMY",
        "outputId": "056318a0-8138-4cd7-9a6c-92236ec65003"
      },
      "execution_count": null,
      "outputs": [
        {
          "output_type": "execute_result",
          "data": {
            "text/plain": [
              "     ID  Sex  Age  Employment  Social_class  Education  Income  Internet  \\\n",
              "0  1002    1    6           6             4          2       1         2   \n",
              "1  1003    1    2           1             2          5       3         1   \n",
              "2  1004    1    4           1             2          5       6         1   \n",
              "3  1005    2    3           1             2          5       6         1   \n",
              "4  1008    2    3           1             2          5       6         1   \n",
              "\n",
              "   Home_type  Home_age  ...  Desktop  Laptop  Game_console  Washing_machine  \\\n",
              "0          2       NaN  ...        1       1             1              1.0   \n",
              "1          5       NaN  ...        1       3             2              2.0   \n",
              "2          3       NaN  ...        2       2             2              2.0   \n",
              "3          2       NaN  ...        1       2             2              2.0   \n",
              "4          3       NaN  ...        4       1             2              1.0   \n",
              "\n",
              "   Tumble_dryer  Dishwasher  CFL_lightbulbs  Doubleglazed_windows  \\\n",
              "0           NaN         NaN               3                     5   \n",
              "1           1.0         1.0               3                     5   \n",
              "2           1.0         3.0               2                     5   \n",
              "3           1.0         NaN               2                     5   \n",
              "4           1.0         2.0               5                     5   \n",
              "\n",
              "   Attic_insulated  External_walls_insulated  \n",
              "0                1                         2  \n",
              "1                1                         1  \n",
              "2                1                         1  \n",
              "3                1                         2  \n",
              "4                1                         2  \n",
              "\n",
              "[5 rows x 43 columns]"
            ],
            "text/html": [
              "\n",
              "  <div id=\"df-d291a671-0730-4b86-9f35-488c51d548dc\">\n",
              "    <div class=\"colab-df-container\">\n",
              "      <div>\n",
              "<style scoped>\n",
              "    .dataframe tbody tr th:only-of-type {\n",
              "        vertical-align: middle;\n",
              "    }\n",
              "\n",
              "    .dataframe tbody tr th {\n",
              "        vertical-align: top;\n",
              "    }\n",
              "\n",
              "    .dataframe thead th {\n",
              "        text-align: right;\n",
              "    }\n",
              "</style>\n",
              "<table border=\"1\" class=\"dataframe\">\n",
              "  <thead>\n",
              "    <tr style=\"text-align: right;\">\n",
              "      <th></th>\n",
              "      <th>ID</th>\n",
              "      <th>Sex</th>\n",
              "      <th>Age</th>\n",
              "      <th>Employment</th>\n",
              "      <th>Social_class</th>\n",
              "      <th>Education</th>\n",
              "      <th>Income</th>\n",
              "      <th>Internet</th>\n",
              "      <th>Home_type</th>\n",
              "      <th>Home_age</th>\n",
              "      <th>...</th>\n",
              "      <th>Desktop</th>\n",
              "      <th>Laptop</th>\n",
              "      <th>Game_console</th>\n",
              "      <th>Washing_machine</th>\n",
              "      <th>Tumble_dryer</th>\n",
              "      <th>Dishwasher</th>\n",
              "      <th>CFL_lightbulbs</th>\n",
              "      <th>Doubleglazed_windows</th>\n",
              "      <th>Attic_insulated</th>\n",
              "      <th>External_walls_insulated</th>\n",
              "    </tr>\n",
              "  </thead>\n",
              "  <tbody>\n",
              "    <tr>\n",
              "      <th>0</th>\n",
              "      <td>1002</td>\n",
              "      <td>1</td>\n",
              "      <td>6</td>\n",
              "      <td>6</td>\n",
              "      <td>4</td>\n",
              "      <td>2</td>\n",
              "      <td>1</td>\n",
              "      <td>2</td>\n",
              "      <td>2</td>\n",
              "      <td>NaN</td>\n",
              "      <td>...</td>\n",
              "      <td>1</td>\n",
              "      <td>1</td>\n",
              "      <td>1</td>\n",
              "      <td>1.0</td>\n",
              "      <td>NaN</td>\n",
              "      <td>NaN</td>\n",
              "      <td>3</td>\n",
              "      <td>5</td>\n",
              "      <td>1</td>\n",
              "      <td>2</td>\n",
              "    </tr>\n",
              "    <tr>\n",
              "      <th>1</th>\n",
              "      <td>1003</td>\n",
              "      <td>1</td>\n",
              "      <td>2</td>\n",
              "      <td>1</td>\n",
              "      <td>2</td>\n",
              "      <td>5</td>\n",
              "      <td>3</td>\n",
              "      <td>1</td>\n",
              "      <td>5</td>\n",
              "      <td>NaN</td>\n",
              "      <td>...</td>\n",
              "      <td>1</td>\n",
              "      <td>3</td>\n",
              "      <td>2</td>\n",
              "      <td>2.0</td>\n",
              "      <td>1.0</td>\n",
              "      <td>1.0</td>\n",
              "      <td>3</td>\n",
              "      <td>5</td>\n",
              "      <td>1</td>\n",
              "      <td>1</td>\n",
              "    </tr>\n",
              "    <tr>\n",
              "      <th>2</th>\n",
              "      <td>1004</td>\n",
              "      <td>1</td>\n",
              "      <td>4</td>\n",
              "      <td>1</td>\n",
              "      <td>2</td>\n",
              "      <td>5</td>\n",
              "      <td>6</td>\n",
              "      <td>1</td>\n",
              "      <td>3</td>\n",
              "      <td>NaN</td>\n",
              "      <td>...</td>\n",
              "      <td>2</td>\n",
              "      <td>2</td>\n",
              "      <td>2</td>\n",
              "      <td>2.0</td>\n",
              "      <td>1.0</td>\n",
              "      <td>3.0</td>\n",
              "      <td>2</td>\n",
              "      <td>5</td>\n",
              "      <td>1</td>\n",
              "      <td>1</td>\n",
              "    </tr>\n",
              "    <tr>\n",
              "      <th>3</th>\n",
              "      <td>1005</td>\n",
              "      <td>2</td>\n",
              "      <td>3</td>\n",
              "      <td>1</td>\n",
              "      <td>2</td>\n",
              "      <td>5</td>\n",
              "      <td>6</td>\n",
              "      <td>1</td>\n",
              "      <td>2</td>\n",
              "      <td>NaN</td>\n",
              "      <td>...</td>\n",
              "      <td>1</td>\n",
              "      <td>2</td>\n",
              "      <td>2</td>\n",
              "      <td>2.0</td>\n",
              "      <td>1.0</td>\n",
              "      <td>NaN</td>\n",
              "      <td>2</td>\n",
              "      <td>5</td>\n",
              "      <td>1</td>\n",
              "      <td>2</td>\n",
              "    </tr>\n",
              "    <tr>\n",
              "      <th>4</th>\n",
              "      <td>1008</td>\n",
              "      <td>2</td>\n",
              "      <td>3</td>\n",
              "      <td>1</td>\n",
              "      <td>2</td>\n",
              "      <td>5</td>\n",
              "      <td>6</td>\n",
              "      <td>1</td>\n",
              "      <td>3</td>\n",
              "      <td>NaN</td>\n",
              "      <td>...</td>\n",
              "      <td>4</td>\n",
              "      <td>1</td>\n",
              "      <td>2</td>\n",
              "      <td>1.0</td>\n",
              "      <td>1.0</td>\n",
              "      <td>2.0</td>\n",
              "      <td>5</td>\n",
              "      <td>5</td>\n",
              "      <td>1</td>\n",
              "      <td>2</td>\n",
              "    </tr>\n",
              "  </tbody>\n",
              "</table>\n",
              "<p>5 rows × 43 columns</p>\n",
              "</div>\n",
              "      <button class=\"colab-df-convert\" onclick=\"convertToInteractive('df-d291a671-0730-4b86-9f35-488c51d548dc')\"\n",
              "              title=\"Convert this dataframe to an interactive table.\"\n",
              "              style=\"display:none;\">\n",
              "        \n",
              "  <svg xmlns=\"http://www.w3.org/2000/svg\" height=\"24px\"viewBox=\"0 0 24 24\"\n",
              "       width=\"24px\">\n",
              "    <path d=\"M0 0h24v24H0V0z\" fill=\"none\"/>\n",
              "    <path d=\"M18.56 5.44l.94 2.06.94-2.06 2.06-.94-2.06-.94-.94-2.06-.94 2.06-2.06.94zm-11 1L8.5 8.5l.94-2.06 2.06-.94-2.06-.94L8.5 2.5l-.94 2.06-2.06.94zm10 10l.94 2.06.94-2.06 2.06-.94-2.06-.94-.94-2.06-.94 2.06-2.06.94z\"/><path d=\"M17.41 7.96l-1.37-1.37c-.4-.4-.92-.59-1.43-.59-.52 0-1.04.2-1.43.59L10.3 9.45l-7.72 7.72c-.78.78-.78 2.05 0 2.83L4 21.41c.39.39.9.59 1.41.59.51 0 1.02-.2 1.41-.59l7.78-7.78 2.81-2.81c.8-.78.8-2.07 0-2.86zM5.41 20L4 18.59l7.72-7.72 1.47 1.35L5.41 20z\"/>\n",
              "  </svg>\n",
              "      </button>\n",
              "      \n",
              "  <style>\n",
              "    .colab-df-container {\n",
              "      display:flex;\n",
              "      flex-wrap:wrap;\n",
              "      gap: 12px;\n",
              "    }\n",
              "\n",
              "    .colab-df-convert {\n",
              "      background-color: #E8F0FE;\n",
              "      border: none;\n",
              "      border-radius: 50%;\n",
              "      cursor: pointer;\n",
              "      display: none;\n",
              "      fill: #1967D2;\n",
              "      height: 32px;\n",
              "      padding: 0 0 0 0;\n",
              "      width: 32px;\n",
              "    }\n",
              "\n",
              "    .colab-df-convert:hover {\n",
              "      background-color: #E2EBFA;\n",
              "      box-shadow: 0px 1px 2px rgba(60, 64, 67, 0.3), 0px 1px 3px 1px rgba(60, 64, 67, 0.15);\n",
              "      fill: #174EA6;\n",
              "    }\n",
              "\n",
              "    [theme=dark] .colab-df-convert {\n",
              "      background-color: #3B4455;\n",
              "      fill: #D2E3FC;\n",
              "    }\n",
              "\n",
              "    [theme=dark] .colab-df-convert:hover {\n",
              "      background-color: #434B5C;\n",
              "      box-shadow: 0px 1px 3px 1px rgba(0, 0, 0, 0.15);\n",
              "      filter: drop-shadow(0px 1px 2px rgba(0, 0, 0, 0.3));\n",
              "      fill: #FFFFFF;\n",
              "    }\n",
              "  </style>\n",
              "\n",
              "      <script>\n",
              "        const buttonEl =\n",
              "          document.querySelector('#df-d291a671-0730-4b86-9f35-488c51d548dc button.colab-df-convert');\n",
              "        buttonEl.style.display =\n",
              "          google.colab.kernel.accessAllowed ? 'block' : 'none';\n",
              "\n",
              "        async function convertToInteractive(key) {\n",
              "          const element = document.querySelector('#df-d291a671-0730-4b86-9f35-488c51d548dc');\n",
              "          const dataTable =\n",
              "            await google.colab.kernel.invokeFunction('convertToInteractive',\n",
              "                                                     [key], {});\n",
              "          if (!dataTable) return;\n",
              "\n",
              "          const docLinkHtml = 'Like what you see? Visit the ' +\n",
              "            '<a target=\"_blank\" href=https://colab.research.google.com/notebooks/data_table.ipynb>data table notebook</a>'\n",
              "            + ' to learn more about interactive tables.';\n",
              "          element.innerHTML = '';\n",
              "          dataTable['output_type'] = 'display_data';\n",
              "          await google.colab.output.renderOutput(dataTable, element);\n",
              "          const docLink = document.createElement('div');\n",
              "          docLink.innerHTML = docLinkHtml;\n",
              "          element.appendChild(docLink);\n",
              "        }\n",
              "      </script>\n",
              "    </div>\n",
              "  </div>\n",
              "  "
            ]
          },
          "metadata": {},
          "execution_count": 5
        }
      ]
    },
    {
      "cell_type": "code",
      "source": [
        "survey.info()"
      ],
      "metadata": {
        "colab": {
          "base_uri": "https://localhost:8080/"
        },
        "id": "dBCGj0q7RNBl",
        "outputId": "4bb08c31-b244-4f3f-bf04-5a8443b94882"
      },
      "execution_count": null,
      "outputs": [
        {
          "output_type": "stream",
          "name": "stdout",
          "text": [
            "<class 'pandas.core.frame.DataFrame'>\n",
            "RangeIndex: 4232 entries, 0 to 4231\n",
            "Data columns (total 43 columns):\n",
            " #   Column                    Non-Null Count  Dtype  \n",
            "---  ------                    --------------  -----  \n",
            " 0   ID                        4232 non-null   int64  \n",
            " 1   Sex                       4232 non-null   int64  \n",
            " 2   Age                       4232 non-null   int64  \n",
            " 3   Employment                4232 non-null   int64  \n",
            " 4   Social_class              4232 non-null   int64  \n",
            " 5   Education                 4232 non-null   int64  \n",
            " 6   Income                    4232 non-null   int64  \n",
            " 7   Internet                  4232 non-null   int64  \n",
            " 8   Home_type                 4232 non-null   int64  \n",
            " 9   Home_age                  422 non-null    float64\n",
            " 10  Bedrooms                  4232 non-null   int64  \n",
            " 11  Heat_electricity_central  4232 non-null   int64  \n",
            " 12  Heat_gas                  4232 non-null   int64  \n",
            " 13  Heat_oil                  4232 non-null   int64  \n",
            " 14  Heat_solidfuel            4232 non-null   int64  \n",
            " 15  Heat_renewable            4232 non-null   int64  \n",
            " 16  Heat_other                4232 non-null   int64  \n",
            " 17  Heat_timer                4232 non-null   int64  \n",
            " 18  Water_heat_central        4232 non-null   int64  \n",
            " 19  Water_heat_electric       4232 non-null   int64  \n",
            " 20  Water_heat_gas            4232 non-null   int64  \n",
            " 21  Water_heat_oil            4232 non-null   int64  \n",
            " 22  Water_heat_solidfuel      4232 non-null   int64  \n",
            " 23  Water_heat_renewable      4232 non-null   int64  \n",
            " 24  Water_heat_other          4232 non-null   int64  \n",
            " 25  Electric_shower           4232 non-null   int64  \n",
            " 26  Electric_cooker           4232 non-null   int64  \n",
            " 27  Electric_heater           4232 non-null   int64  \n",
            " 28  Standalone_freezer        4232 non-null   int64  \n",
            " 29  Water_pump                4232 non-null   int64  \n",
            " 30  Immersion_heater          4232 non-null   int64  \n",
            " 31  TV_21_less                4232 non-null   int64  \n",
            " 32  TV_21_greater             4232 non-null   int64  \n",
            " 33  Desktop                   4232 non-null   int64  \n",
            " 34  Laptop                    4232 non-null   int64  \n",
            " 35  Game_console              4232 non-null   int64  \n",
            " 36  Washing_machine           4162 non-null   float64\n",
            " 37  Tumble_dryer              2890 non-null   float64\n",
            " 38  Dishwasher                2844 non-null   float64\n",
            " 39  CFL_lightbulbs            4232 non-null   int64  \n",
            " 40  Doubleglazed_windows      4232 non-null   int64  \n",
            " 41  Attic_insulated           4232 non-null   int64  \n",
            " 42  External_walls_insulated  4232 non-null   int64  \n",
            "dtypes: float64(4), int64(39)\n",
            "memory usage: 1.4 MB\n"
          ]
        }
      ]
    },
    {
      "cell_type": "markdown",
      "source": [
        "## Join DataFrames"
      ],
      "metadata": {
        "id": "Ui66UuUBRZqQ"
      }
    },
    {
      "cell_type": "code",
      "source": [
        "survey.set_index('ID', inplace=True)"
      ],
      "metadata": {
        "id": "XTMZS4hBRPaS"
      },
      "execution_count": null,
      "outputs": []
    },
    {
      "cell_type": "code",
      "source": [
        "df = pd.merge(left=usage, right=survey, how='inner', left_index=True, right_index=True)"
      ],
      "metadata": {
        "id": "RBzPVEOqRcL9"
      },
      "execution_count": null,
      "outputs": []
    },
    {
      "cell_type": "code",
      "source": [
        "df.shape"
      ],
      "metadata": {
        "colab": {
          "base_uri": "https://localhost:8080/"
        },
        "id": "J24RFXPxRfZD",
        "outputId": "49d21c04-26eb-4686-a1c6-cb401d9323c3"
      },
      "execution_count": null,
      "outputs": [
        {
          "output_type": "execute_result",
          "data": {
            "text/plain": [
              "(4221, 91)"
            ]
          },
          "metadata": {},
          "execution_count": 9
        }
      ]
    },
    {
      "cell_type": "code",
      "source": [
        "df.head()"
      ],
      "metadata": {
        "colab": {
          "base_uri": "https://localhost:8080/",
          "height": 300
        },
        "id": "6N2WtLFLRkIE",
        "outputId": "4b7f4ad9-39e9-47d8-f43e-65ed0fdb28f8"
      },
      "execution_count": null,
      "outputs": [
        {
          "output_type": "execute_result",
          "data": {
            "text/plain": [
              "             1         2         3         4         5         6         7  \\\n",
              "1002  0.018452  0.012740  0.009479  0.008216  0.007359  0.007105  0.006999   \n",
              "1003  0.018708  0.017658  0.016445  0.014757  0.014121  0.013317  0.012589   \n",
              "1004  0.020893  0.018324  0.015967  0.014058  0.012766  0.011614  0.010476   \n",
              "1005  0.011681  0.009916  0.009239  0.008486  0.008058  0.007957  0.007487   \n",
              "1008  0.021517  0.025340  0.020170  0.019409  0.018390  0.018278  0.017944   \n",
              "\n",
              "             8         9        10  ...  Desktop  Laptop  Game_console  \\\n",
              "1002  0.007051  0.006743  0.007094  ...        1       1             1   \n",
              "1003  0.012026  0.012650  0.015951  ...        1       3             2   \n",
              "1004  0.009385  0.008719  0.008051  ...        2       2             2   \n",
              "1005  0.007645  0.007321  0.007466  ...        1       2             2   \n",
              "1008  0.016977  0.015802  0.015399  ...        4       1             2   \n",
              "\n",
              "      Washing_machine  Tumble_dryer  Dishwasher  CFL_lightbulbs  \\\n",
              "1002              1.0           NaN         NaN               3   \n",
              "1003              2.0           1.0         1.0               3   \n",
              "1004              2.0           1.0         3.0               2   \n",
              "1005              2.0           1.0         NaN               2   \n",
              "1008              1.0           1.0         2.0               5   \n",
              "\n",
              "      Doubleglazed_windows  Attic_insulated  External_walls_insulated  \n",
              "1002                     5                1                         2  \n",
              "1003                     5                1                         1  \n",
              "1004                     5                1                         1  \n",
              "1005                     5                1                         2  \n",
              "1008                     5                1                         2  \n",
              "\n",
              "[5 rows x 91 columns]"
            ],
            "text/html": [
              "\n",
              "  <div id=\"df-06a1306a-b612-4f47-bc6a-c087551b138e\">\n",
              "    <div class=\"colab-df-container\">\n",
              "      <div>\n",
              "<style scoped>\n",
              "    .dataframe tbody tr th:only-of-type {\n",
              "        vertical-align: middle;\n",
              "    }\n",
              "\n",
              "    .dataframe tbody tr th {\n",
              "        vertical-align: top;\n",
              "    }\n",
              "\n",
              "    .dataframe thead th {\n",
              "        text-align: right;\n",
              "    }\n",
              "</style>\n",
              "<table border=\"1\" class=\"dataframe\">\n",
              "  <thead>\n",
              "    <tr style=\"text-align: right;\">\n",
              "      <th></th>\n",
              "      <th>1</th>\n",
              "      <th>2</th>\n",
              "      <th>3</th>\n",
              "      <th>4</th>\n",
              "      <th>5</th>\n",
              "      <th>6</th>\n",
              "      <th>7</th>\n",
              "      <th>8</th>\n",
              "      <th>9</th>\n",
              "      <th>10</th>\n",
              "      <th>...</th>\n",
              "      <th>Desktop</th>\n",
              "      <th>Laptop</th>\n",
              "      <th>Game_console</th>\n",
              "      <th>Washing_machine</th>\n",
              "      <th>Tumble_dryer</th>\n",
              "      <th>Dishwasher</th>\n",
              "      <th>CFL_lightbulbs</th>\n",
              "      <th>Doubleglazed_windows</th>\n",
              "      <th>Attic_insulated</th>\n",
              "      <th>External_walls_insulated</th>\n",
              "    </tr>\n",
              "  </thead>\n",
              "  <tbody>\n",
              "    <tr>\n",
              "      <th>1002</th>\n",
              "      <td>0.018452</td>\n",
              "      <td>0.012740</td>\n",
              "      <td>0.009479</td>\n",
              "      <td>0.008216</td>\n",
              "      <td>0.007359</td>\n",
              "      <td>0.007105</td>\n",
              "      <td>0.006999</td>\n",
              "      <td>0.007051</td>\n",
              "      <td>0.006743</td>\n",
              "      <td>0.007094</td>\n",
              "      <td>...</td>\n",
              "      <td>1</td>\n",
              "      <td>1</td>\n",
              "      <td>1</td>\n",
              "      <td>1.0</td>\n",
              "      <td>NaN</td>\n",
              "      <td>NaN</td>\n",
              "      <td>3</td>\n",
              "      <td>5</td>\n",
              "      <td>1</td>\n",
              "      <td>2</td>\n",
              "    </tr>\n",
              "    <tr>\n",
              "      <th>1003</th>\n",
              "      <td>0.018708</td>\n",
              "      <td>0.017658</td>\n",
              "      <td>0.016445</td>\n",
              "      <td>0.014757</td>\n",
              "      <td>0.014121</td>\n",
              "      <td>0.013317</td>\n",
              "      <td>0.012589</td>\n",
              "      <td>0.012026</td>\n",
              "      <td>0.012650</td>\n",
              "      <td>0.015951</td>\n",
              "      <td>...</td>\n",
              "      <td>1</td>\n",
              "      <td>3</td>\n",
              "      <td>2</td>\n",
              "      <td>2.0</td>\n",
              "      <td>1.0</td>\n",
              "      <td>1.0</td>\n",
              "      <td>3</td>\n",
              "      <td>5</td>\n",
              "      <td>1</td>\n",
              "      <td>1</td>\n",
              "    </tr>\n",
              "    <tr>\n",
              "      <th>1004</th>\n",
              "      <td>0.020893</td>\n",
              "      <td>0.018324</td>\n",
              "      <td>0.015967</td>\n",
              "      <td>0.014058</td>\n",
              "      <td>0.012766</td>\n",
              "      <td>0.011614</td>\n",
              "      <td>0.010476</td>\n",
              "      <td>0.009385</td>\n",
              "      <td>0.008719</td>\n",
              "      <td>0.008051</td>\n",
              "      <td>...</td>\n",
              "      <td>2</td>\n",
              "      <td>2</td>\n",
              "      <td>2</td>\n",
              "      <td>2.0</td>\n",
              "      <td>1.0</td>\n",
              "      <td>3.0</td>\n",
              "      <td>2</td>\n",
              "      <td>5</td>\n",
              "      <td>1</td>\n",
              "      <td>1</td>\n",
              "    </tr>\n",
              "    <tr>\n",
              "      <th>1005</th>\n",
              "      <td>0.011681</td>\n",
              "      <td>0.009916</td>\n",
              "      <td>0.009239</td>\n",
              "      <td>0.008486</td>\n",
              "      <td>0.008058</td>\n",
              "      <td>0.007957</td>\n",
              "      <td>0.007487</td>\n",
              "      <td>0.007645</td>\n",
              "      <td>0.007321</td>\n",
              "      <td>0.007466</td>\n",
              "      <td>...</td>\n",
              "      <td>1</td>\n",
              "      <td>2</td>\n",
              "      <td>2</td>\n",
              "      <td>2.0</td>\n",
              "      <td>1.0</td>\n",
              "      <td>NaN</td>\n",
              "      <td>2</td>\n",
              "      <td>5</td>\n",
              "      <td>1</td>\n",
              "      <td>2</td>\n",
              "    </tr>\n",
              "    <tr>\n",
              "      <th>1008</th>\n",
              "      <td>0.021517</td>\n",
              "      <td>0.025340</td>\n",
              "      <td>0.020170</td>\n",
              "      <td>0.019409</td>\n",
              "      <td>0.018390</td>\n",
              "      <td>0.018278</td>\n",
              "      <td>0.017944</td>\n",
              "      <td>0.016977</td>\n",
              "      <td>0.015802</td>\n",
              "      <td>0.015399</td>\n",
              "      <td>...</td>\n",
              "      <td>4</td>\n",
              "      <td>1</td>\n",
              "      <td>2</td>\n",
              "      <td>1.0</td>\n",
              "      <td>1.0</td>\n",
              "      <td>2.0</td>\n",
              "      <td>5</td>\n",
              "      <td>5</td>\n",
              "      <td>1</td>\n",
              "      <td>2</td>\n",
              "    </tr>\n",
              "  </tbody>\n",
              "</table>\n",
              "<p>5 rows × 91 columns</p>\n",
              "</div>\n",
              "      <button class=\"colab-df-convert\" onclick=\"convertToInteractive('df-06a1306a-b612-4f47-bc6a-c087551b138e')\"\n",
              "              title=\"Convert this dataframe to an interactive table.\"\n",
              "              style=\"display:none;\">\n",
              "        \n",
              "  <svg xmlns=\"http://www.w3.org/2000/svg\" height=\"24px\"viewBox=\"0 0 24 24\"\n",
              "       width=\"24px\">\n",
              "    <path d=\"M0 0h24v24H0V0z\" fill=\"none\"/>\n",
              "    <path d=\"M18.56 5.44l.94 2.06.94-2.06 2.06-.94-2.06-.94-.94-2.06-.94 2.06-2.06.94zm-11 1L8.5 8.5l.94-2.06 2.06-.94-2.06-.94L8.5 2.5l-.94 2.06-2.06.94zm10 10l.94 2.06.94-2.06 2.06-.94-2.06-.94-.94-2.06-.94 2.06-2.06.94z\"/><path d=\"M17.41 7.96l-1.37-1.37c-.4-.4-.92-.59-1.43-.59-.52 0-1.04.2-1.43.59L10.3 9.45l-7.72 7.72c-.78.78-.78 2.05 0 2.83L4 21.41c.39.39.9.59 1.41.59.51 0 1.02-.2 1.41-.59l7.78-7.78 2.81-2.81c.8-.78.8-2.07 0-2.86zM5.41 20L4 18.59l7.72-7.72 1.47 1.35L5.41 20z\"/>\n",
              "  </svg>\n",
              "      </button>\n",
              "      \n",
              "  <style>\n",
              "    .colab-df-container {\n",
              "      display:flex;\n",
              "      flex-wrap:wrap;\n",
              "      gap: 12px;\n",
              "    }\n",
              "\n",
              "    .colab-df-convert {\n",
              "      background-color: #E8F0FE;\n",
              "      border: none;\n",
              "      border-radius: 50%;\n",
              "      cursor: pointer;\n",
              "      display: none;\n",
              "      fill: #1967D2;\n",
              "      height: 32px;\n",
              "      padding: 0 0 0 0;\n",
              "      width: 32px;\n",
              "    }\n",
              "\n",
              "    .colab-df-convert:hover {\n",
              "      background-color: #E2EBFA;\n",
              "      box-shadow: 0px 1px 2px rgba(60, 64, 67, 0.3), 0px 1px 3px 1px rgba(60, 64, 67, 0.15);\n",
              "      fill: #174EA6;\n",
              "    }\n",
              "\n",
              "    [theme=dark] .colab-df-convert {\n",
              "      background-color: #3B4455;\n",
              "      fill: #D2E3FC;\n",
              "    }\n",
              "\n",
              "    [theme=dark] .colab-df-convert:hover {\n",
              "      background-color: #434B5C;\n",
              "      box-shadow: 0px 1px 3px 1px rgba(0, 0, 0, 0.15);\n",
              "      filter: drop-shadow(0px 1px 2px rgba(0, 0, 0, 0.3));\n",
              "      fill: #FFFFFF;\n",
              "    }\n",
              "  </style>\n",
              "\n",
              "      <script>\n",
              "        const buttonEl =\n",
              "          document.querySelector('#df-06a1306a-b612-4f47-bc6a-c087551b138e button.colab-df-convert');\n",
              "        buttonEl.style.display =\n",
              "          google.colab.kernel.accessAllowed ? 'block' : 'none';\n",
              "\n",
              "        async function convertToInteractive(key) {\n",
              "          const element = document.querySelector('#df-06a1306a-b612-4f47-bc6a-c087551b138e');\n",
              "          const dataTable =\n",
              "            await google.colab.kernel.invokeFunction('convertToInteractive',\n",
              "                                                     [key], {});\n",
              "          if (!dataTable) return;\n",
              "\n",
              "          const docLinkHtml = 'Like what you see? Visit the ' +\n",
              "            '<a target=\"_blank\" href=https://colab.research.google.com/notebooks/data_table.ipynb>data table notebook</a>'\n",
              "            + ' to learn more about interactive tables.';\n",
              "          element.innerHTML = '';\n",
              "          dataTable['output_type'] = 'display_data';\n",
              "          await google.colab.output.renderOutput(dataTable, element);\n",
              "          const docLink = document.createElement('div');\n",
              "          docLink.innerHTML = docLinkHtml;\n",
              "          element.appendChild(docLink);\n",
              "        }\n",
              "      </script>\n",
              "    </div>\n",
              "  </div>\n",
              "  "
            ]
          },
          "metadata": {},
          "execution_count": 10
        }
      ]
    },
    {
      "cell_type": "markdown",
      "source": [
        "## Split datasets"
      ],
      "metadata": {
        "id": "rmf_jJiLTA7c"
      }
    },
    {
      "cell_type": "code",
      "source": [
        "# Split the data\n",
        "X = df.drop('DR', axis=1)\n",
        "y = df['DR'].copy()"
      ],
      "metadata": {
        "id": "q7zvg9SETNiE"
      },
      "execution_count": null,
      "outputs": []
    },
    {
      "cell_type": "code",
      "source": [
        "from sklearn.model_selection import train_test_split\n",
        "\n",
        "train_ratio = 0.6\n",
        "validation_ratio = 0.2\n",
        "test_ratio = 0.2\n",
        "\n",
        "# train is 60% of the original data set\n",
        "X_train, X_test, y_train, y_test = train_test_split(X, y, test_size=1-train_ratio, random_state=48)\n",
        "\n",
        "# test is  20% of the original data set\n",
        "# validation is  20% of the original data set\n",
        "X_val, X_test, y_val, y_test = train_test_split(X_test, y_test, test_size=test_ratio/(test_ratio + validation_ratio)) "
      ],
      "metadata": {
        "id": "ycxyvE9ZTCWR"
      },
      "execution_count": null,
      "outputs": []
    },
    {
      "cell_type": "markdown",
      "source": [
        "## Missing Values"
      ],
      "metadata": {
        "id": "KbEo0V1SRt8v"
      }
    },
    {
      "cell_type": "code",
      "source": [
        "percent_missing = X_train.isna().sum() * 100 / len(df)\n",
        "percent_missing[percent_missing > 0]"
      ],
      "metadata": {
        "colab": {
          "base_uri": "https://localhost:8080/"
        },
        "id": "IFuMiv8yRlFd",
        "outputId": "25369819-3ab5-4968-9f26-93da2636791a"
      },
      "execution_count": null,
      "outputs": [
        {
          "output_type": "execute_result",
          "data": {
            "text/plain": [
              "Home_age           54.228856\n",
              "Washing_machine     1.184553\n",
              "Tumble_dryer       18.834399\n",
              "Dishwasher         20.113717\n",
              "dtype: float64"
            ]
          },
          "metadata": {},
          "execution_count": 13
        }
      ]
    },
    {
      "cell_type": "code",
      "source": [
        "sns.heatmap(X_train[['Home_age', 'Washing_machine', 'Tumble_dryer', 'Dishwasher']].isna(), cmap='YlGnBu')\n",
        "plt.show()"
      ],
      "metadata": {
        "colab": {
          "base_uri": "https://localhost:8080/",
          "height": 363
        },
        "id": "QSXMZBG8Ryo8",
        "outputId": "1ea0083b-ae5b-42b2-ac44-0d5ec3d4ff6d"
      },
      "execution_count": null,
      "outputs": [
        {
          "output_type": "display_data",
          "data": {
            "text/plain": [
              "<Figure size 432x288 with 2 Axes>"
            ],
            "image/png": "[encoded data removed]"
          },
          "metadata": {
            "needs_background": "light"
          }
        }
      ]
    },
    {
      "cell_type": "markdown",
      "source": [
        "**Treatment**\n",
        "- `Home_age`: greater than 70% missing; drop this feature.\n",
        "- `Washing_machine`: less than 2% missing; impute.\n",
        "- `Tumble_dryer`: about 25% missing; impute.\n",
        "- `Dishwasher`: about 26% missing; impute."
      ],
      "metadata": {
        "id": "KZz9Xl5jRzcs"
      }
    },
    {
      "cell_type": "code",
      "source": [
        "df.drop('Home_age', axis=1, inplace=True)"
      ],
      "metadata": {
        "id": "6XZu4RwXR-Xr"
      },
      "execution_count": null,
      "outputs": []
    },
    {
      "cell_type": "markdown",
      "source": [
        "### Transformation Pipelines\n",
        "Your data may require many transformation steps which need to be executed in a particular order. `Pipeline`s are he most common tool used to chain estimators which helps ensure transformations occur in the correct order. \n",
        "\n",
        "Characteristics include: \n",
        "\n",
        "* Helps with sequences of data transformations. This is useful because there may be many different transformations on the data that must be executed in the same order each time. \n",
        "* Also remembers certains values from the training data, like imputation values and standardization values, that will be used to transform the test data.\n",
        "\n",
        "Note: all estimators in a pipeline, except the last one, must be transformers (i.e., must have a `transform` method). The last estimator may be any type (transformer, classifier, etc.)."
      ],
      "metadata": {
        "id": "oCST4lQFSA6J"
      }
    },
    {
      "cell_type": "code",
      "source": [
        "# Create a pipeline object that imputes missing values (with median) and scales using standard scaler\n",
        "from sklearn.pipeline import Pipeline\n",
        "from sklearn.impute import SimpleImputer # import the class\n",
        "\n",
        "pipe = Pipeline([\n",
        "    ('imputer', SimpleImputer(strategy='median')), \n",
        "])"
      ],
      "metadata": {
        "id": "c_-RqezqR-yU"
      },
      "execution_count": null,
      "outputs": []
    },
    {
      "cell_type": "code",
      "source": [
        "# Call fit_transform with the training data\n",
        "X_train = pipe.fit_transform(X_train)"
      ],
      "metadata": {
        "id": "0VIlTaDSSGcy"
      },
      "execution_count": null,
      "outputs": []
    },
    {
      "cell_type": "code",
      "source": [
        "# Use the transform method only on the validation and test data\n",
        "X_val = pipe.transform(X_val)\n",
        "X_test = pipe.transform(X_test)"
      ],
      "metadata": {
        "id": "N-gKppK5UBnu"
      },
      "execution_count": null,
      "outputs": []
    },
    {
      "cell_type": "markdown",
      "source": [
        "### Get a baseline"
      ],
      "metadata": {
        "id": "FFVe9w9eUQoM"
      }
    },
    {
      "cell_type": "code",
      "source": [
        "y_train.mean()\n",
        "# 29% of customers in the training set are DR candidates"
      ],
      "metadata": {
        "colab": {
          "base_uri": "https://localhost:8080/"
        },
        "id": "waZa_B5AUGJr",
        "outputId": "cb999c08-3487-4ec1-eac3-42712f3aa3f5"
      },
      "execution_count": null,
      "outputs": [
        {
          "output_type": "execute_result",
          "data": {
            "text/plain": [
              "0.29541864139020535"
            ]
          },
          "metadata": {},
          "execution_count": 19
        }
      ]
    },
    {
      "cell_type": "markdown",
      "source": [
        "#### Train models: Logistic Regression, Decision Tree, and Random Forest"
      ],
      "metadata": {
        "id": "KL0_TZUxUjv9"
      }
    },
    {
      "cell_type": "code",
      "source": [
        "from sklearn.metrics import accuracy_score, precision_score, recall_score, f1_score, confusion_matrix # import"
      ],
      "metadata": {
        "id": "eImXvXBWQN2n"
      },
      "execution_count": null,
      "outputs": []
    },
    {
      "cell_type": "code",
      "source": [
        "%%time\n",
        "# Import statement\n",
        "from sklearn.linear_model import LogisticRegressionCV\n",
        "\n",
        "lrClf = LogisticRegressionCV(cv=5, max_iter=5000, solver='saga', n_jobs=-1, random_state=48).fit(X_train, y_train)"
      ],
      "metadata": {
        "id": "U3dQxNrXUTsO"
      },
      "execution_count": null,
      "outputs": []
    },
    {
      "cell_type": "code",
      "source": [
        "# train a decision tree\n",
        "from sklearn.tree import DecisionTreeClassifier\n",
        "from sklearn.model_selection import GridSearchCV\n",
        "\n",
        "# define the hyperparameters\n",
        "params = {'max_depth': [2, 3, 5, 10, 20, 40, 80],\n",
        "          'min_samples_leaf': [5, 10, 20, 50, 100],\n",
        "          'criterion': [\"gini\", \"entropy\"]\n",
        "}\n",
        "\n",
        "gridSearch = GridSearchCV(DecisionTreeClassifier(random_state=48), \n",
        "                     param_grid=params, \n",
        "                     cv=5, n_jobs=-1, verbose=1, scoring=\"accuracy\")\n",
        "\n",
        "gridSearch.fit(X_train, y_train)"
      ],
      "metadata": {
        "id": "P2m3w3NbUnOL"
      },
      "execution_count": null,
      "outputs": []
    },
    {
      "cell_type": "code",
      "source": [
        "dtClf = gridSearch.best_estimator_\n",
        "print(dtClf)"
      ],
      "metadata": {
        "id": "7SvxWN-_U1AY"
      },
      "execution_count": null,
      "outputs": []
    },
    {
      "cell_type": "code",
      "source": [
        "gridSearch.scoring"
      ],
      "metadata": {
        "id": "ziTnGUazbHAQ"
      },
      "execution_count": null,
      "outputs": []
    },
    {
      "cell_type": "code",
      "source": [
        "from sklearn import tree\n",
        "# fig = plt.figure(figsize=(25,20))\n",
        "# _ = tree.plot_tree(dtClf,\n",
        "#                    feature_names=X.columns,\n",
        "#                    class_names=[\"Non-candidate\", \"Candidate\"],\n",
        "#                    filled=True)\n",
        "# plt.savefig('tree.png')\n",
        "\n",
        "# from google.colab import files\n",
        "# files.download('tree.png') "
      ],
      "metadata": {
        "id": "xgEV5nobU_sZ"
      },
      "execution_count": null,
      "outputs": []
    },
    {
      "cell_type": "code",
      "source": [
        "print(tree.export_text(dtClf))"
      ],
      "metadata": {
        "id": "OU3ASYK4VMqt"
      },
      "execution_count": null,
      "outputs": []
    },
    {
      "cell_type": "code",
      "source": [
        "%%time\n",
        "# Random Forest\n",
        "from sklearn.ensemble import RandomForestClassifier\n",
        "from sklearn.model_selection import RandomizedSearchCV\n",
        "\n",
        "# define the hyperparameters\n",
        "params = {'n_estimators': [10, 25, 50, 100, 200, 300, 400, 500],\n",
        "          'max_features': ['sqrt', 'log2'],\n",
        "          'max_depth': [2, 3, 5, 10, 20, 40, 80],\n",
        "          'criterion': [\"gini\", \"entropy\"]\n",
        "}\n",
        "\n",
        "gridSearch = RandomizedSearchCV(RandomForestClassifier(random_state=48), \n",
        "                                n_iter=50,\n",
        "                                param_distributions=params, \n",
        "                                cv=5, n_jobs=-1, verbose=1, scoring=\"recall\")\n",
        "\n",
        "gridSearch.fit(X_train, y_train)"
      ],
      "metadata": {
        "id": "EvuHTGFuVaFK"
      },
      "execution_count": null,
      "outputs": []
    },
    {
      "cell_type": "code",
      "source": [
        "rfClf = gridSearch.best_estimator_\n",
        "print(rfClf)"
      ],
      "metadata": {
        "id": "z1ySD-omVxBX"
      },
      "execution_count": null,
      "outputs": []
    },
    {
      "cell_type": "code",
      "source": [
        "print(rfClf.feature_importances_)"
      ],
      "metadata": {
        "id": "Zrr1iRKBV0bt"
      },
      "execution_count": null,
      "outputs": []
    },
    {
      "cell_type": "markdown",
      "source": [
        "### Model Performance"
      ],
      "metadata": {
        "id": "t-fYAd5bWoRR"
      }
    },
    {
      "cell_type": "code",
      "source": [
        "def evaluate_model(classifier, X_train, y_train, X_val, y_val):\n",
        "    print(\"Train Accuracy :\", accuracy_score(y_train, classifier.predict(X_train)))\n",
        "    print(\"Train Confusion Matrix:\")\n",
        "    print(confusion_matrix(y_train, classifier.predict(X_train)))\n",
        "    print(\"-\"*50)\n",
        "    print(\"Validation Accuracy :\", accuracy_score(y_val, classifier.predict(X_val)))\n",
        "    print(\"Validation Precision :\", precision_score(y_val, classifier.predict(X_val)))\n",
        "    print(\"Validation Recall :\", recall_score(y_val, classifier.predict(X_val)))\n",
        "    print(\"Validation F1 :\", f1_score(y_val, classifier.predict(X_val)))\n",
        "    print(\"Validation Confusion Matrix:\")\n",
        "    print(confusion_matrix(y_val, classifier.predict(X_val)))"
      ],
      "metadata": {
        "id": "OS79zif0V4Mi"
      },
      "execution_count": null,
      "outputs": []
    },
    {
      "cell_type": "code",
      "source": [
        "# Logistic Regression\n",
        "evaluate_model(lrClf, X_train, y_train, X_val, y_val)"
      ],
      "metadata": {
        "colab": {
          "base_uri": "https://localhost:8080/"
        },
        "id": "xknb-u_nV7Q4",
        "outputId": "1a9bd411-9dfa-4bd1-bb6d-1686fa11e9ab"
      },
      "execution_count": null,
      "outputs": [
        {
          "output_type": "stream",
          "name": "stdout",
          "text": [
            "Train Accuracy : 0.7421011058451816\n",
            "Train Confusion Matrix:\n",
            "[[1666  118]\n",
            " [ 535  213]]\n",
            "--------------------------------------------------\n",
            "Validation Accuracy : 0.7286729857819905\n",
            "Validation Precision : 0.5517241379310345\n",
            "Validation Recall : 0.26556016597510373\n",
            "Validation F1 : 0.35854341736694684\n",
            "Validation Confusion Matrix:\n",
            "[[551  52]\n",
            " [177  64]]\n"
          ]
        }
      ]
    },
    {
      "cell_type": "code",
      "source": [
        "# Decision Tree\n",
        "evaluate_model(dtClf, X_train, y_train, X_val, y_val)"
      ],
      "metadata": {
        "colab": {
          "base_uri": "https://localhost:8080/"
        },
        "id": "bqS1GaE2WA-s",
        "outputId": "72f88b5d-8e2e-406b-837e-4b93fad0aa97"
      },
      "execution_count": null,
      "outputs": [
        {
          "output_type": "stream",
          "name": "stdout",
          "text": [
            "Train Accuracy : 0.957740916271722\n",
            "Train Confusion Matrix:\n",
            "[[1746   38]\n",
            " [  69  679]]\n",
            "--------------------------------------------------\n",
            "Validation Accuracy : 0.7985781990521327\n",
            "Validation Precision : 0.6651162790697674\n",
            "Validation Recall : 0.5933609958506224\n",
            "Validation F1 : 0.6271929824561404\n",
            "Validation Confusion Matrix:\n",
            "[[531  72]\n",
            " [ 98 143]]\n"
          ]
        }
      ]
    },
    {
      "cell_type": "code",
      "source": [
        "evaluate_model(rfClf, X_train, y_train, X_val, y_val)"
      ],
      "metadata": {
        "colab": {
          "base_uri": "https://localhost:8080/"
        },
        "id": "lH39aOt1WFE8",
        "outputId": "d9da1add-7efb-4324-ee9b-93d18869f290"
      },
      "execution_count": null,
      "outputs": [
        {
          "output_type": "stream",
          "name": "stdout",
          "text": [
            "Train Accuracy : 1.0\n",
            "Train Confusion Matrix:\n",
            "[[1784    0]\n",
            " [   0  748]]\n",
            "--------------------------------------------------\n",
            "Validation Accuracy : 0.8803317535545023\n",
            "Validation Precision : 0.8977272727272727\n",
            "Validation Recall : 0.6556016597510373\n",
            "Validation F1 : 0.7577937649880095\n",
            "Validation Confusion Matrix:\n",
            "[[585  18]\n",
            " [ 83 158]]\n"
          ]
        }
      ]
    },
    {
      "cell_type": "markdown",
      "source": [
        "#### Evaluate the best model against the test data."
      ],
      "metadata": {
        "id": "B4IN1ZRWWgAJ"
      }
    },
    {
      "cell_type": "code",
      "source": [
        "print(\"Test Accuracy :\", accuracy_score(y_test, rfClf.predict(X_test)))\n",
        "print(\"Test Precision :\", precision_score(y_test, rfClf.predict(X_test)))\n",
        "print(\"Test Recall :\", recall_score(y_test, rfClf.predict(X_test)))\n",
        "print(\"Test F1 :\", f1_score(y_test, rfClf.predict(X_test)))\n",
        "print(\"Test Confusion Matrix:\")\n",
        "print(confusion_matrix(y_test, rfClf.predict(X_test)))"
      ],
      "metadata": {
        "colab": {
          "base_uri": "https://localhost:8080/"
        },
        "id": "JWTNPpOTWkm1",
        "outputId": "b954c600-9892-4ca1-862d-c2846a2ede63"
      },
      "execution_count": null,
      "outputs": [
        {
          "output_type": "stream",
          "name": "stdout",
          "text": [
            "Test Accuracy : 0.8970414201183432\n",
            "Test Precision : 0.8952380952380953\n",
            "Test Recall : 0.7430830039525692\n",
            "Test F1 : 0.8120950323974082\n",
            "Test Confusion Matrix:\n",
            "[[570  22]\n",
            " [ 65 188]]\n"
          ]
        }
      ]
    },
    {
      "cell_type": "markdown",
      "source": [
        "### Plotting feature importance"
      ],
      "metadata": {
        "id": "FYEowenvTB4-"
      }
    },
    {
      "cell_type": "code",
      "source": [
        "features = df.columns\n",
        "importances = rfClf.feature_importances_\n",
        "indices = np.argsort(importances)\n",
        "\n",
        "plt.figure(figsize=(16, 20))\n",
        "\n",
        "plt.title('Feature Importances')\n",
        "plt.barh(range(len(indices)), importances[indices], color='b', align='center')\n",
        "plt.yticks(range(len(indices)), [features[i] for i in indices])\n",
        "plt.xlabel('Relative Importance')\n",
        "plt.show()"
      ],
      "metadata": {
        "colab": {
          "base_uri": "https://localhost:8080/",
          "height": 1000
        },
        "id": "X67-jAK3alji",
        "outputId": "859fbbae-118f-41a9-ee6a-efb856a046f2"
      },
      "execution_count": null,
      "outputs": [
        {
          "output_type": "display_data",
          "data": {
            "text/plain": [
              "<Figure size 1152x1440 with 1 Axes>"
            ],
            "image/png": "[encoded data removed]"
          },
          "metadata": {}
        }
      ]
    },
    {
      "cell_type": "code",
      "source": [
        ""
      ],
      "metadata": {
        "id": "a3iC3oINUlHR"
      },
      "execution_count": null,
      "outputs": []
    }
  ]
}